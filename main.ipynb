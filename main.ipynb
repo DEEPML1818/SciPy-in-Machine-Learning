{
 "cells": [
  {
   "cell_type": "code",
   "execution_count": null,
   "metadata": {},
   "outputs": [],
   "source": [
    "import numpy as np\n",
    "from scipy.optimize import minimize\n",
    "\n",
    "\n",
    "# Generate synthetic data\n",
    "\n",
    "X = 2 * np.random.rand(100, 1)\n",
    "\n",
    "y = 4 + 3 * X + np.random.randn(100, 1)\n",
    "\n",
    "# Linear regression model\n",
    "\n",
    "def linear_regression(params, X, y):\n",
    "\n",
    "    y_pred = params[0] + params[1] * X\n",
    "    error = y_pred - y\n",
    "    mse = np.mean(error**2)\n",
    "    \n",
    "    return mse\n",
    "    \n",
    "    # Initial guess for parameters\n",
    "\n",
    "    initial_params = [0, 0]\n",
    "\n",
    "# Minimize mean squared error\n",
    "\n",
    "result = minimize(linear_regression, initial_params, args=(X, y), method='BFGS')\n",
    "\n",
    "theta_optimized = result.x\n",
    "print(\"Optimized Parameters:\", theta_optimized)\n",
    "\n"
   ]
  },
  {
   "cell_type": "code",
   "execution_count": null,
   "metadata": {},
   "outputs": [],
   "source": [
    "import numpy as np\n",
    "from scipy.linalg import svd\n",
    "\n",
    "# Generate a random matrix\n",
    "\n",
    "matrix = np.random.rand(3, 3)\n",
    "\n",
    "# Singular Value Decomposition (SVD)\n",
    "\n",
    "U, S, V = svd(matrix)\n",
    "\n",
    "print(\"Singular Values:\", S)\n"
   ]
  },
  {
   "cell_type": "code",
   "execution_count": null,
   "metadata": {},
   "outputs": [],
   "source": [
    "from scipy.stats import norm\n",
    "\n",
    "# Generate random numbers from a normal distribution\n",
    "\n",
    "random_data = norm.rvs(size=1000)\n",
    "\n",
    "\n",
    "# Calculate mean and standard deviation\n",
    "\n",
    "mean_value = np.mean(random_data)\n",
    "\n",
    "std_dev = np.std(random_data)\n",
    "\n",
    "\n",
    "print(\"Mean:\", mean_value)\n",
    "\n",
    "print(\"Standard Deviation:\", std_dev)\n"
   ]
  },
  {
   "cell_type": "code",
   "execution_count": null,
   "metadata": {},
   "outputs": [],
   "source": [
    "from scipy.signal import spectrogram\n",
    "import matplotlib.pyplot as plt\n",
    "# Generate a random signal\n",
    "\n",
    "signal = np.random.rand(1000)\n",
    "\n",
    "# Compute and plot spectrogram\n",
    "\n",
    "frequencies, times, Sxx = spectrogram(signal)\n",
    "\n",
    "plt.pcolormesh(times, frequencies, 10 * np.log10(Sxx), shading='auto')\n",
    "\n",
    "plt.ylabel('Frequency [Hz]')\n",
    "\n",
    "plt.xlabel('Time [sec]')\n",
    "\n",
    "plt.title('Spectrogram of Random Signal')\n",
    "\n",
    "plt.show()\n"
   ]
  }
 ],
 "metadata": {
  "kernelspec": {
   "display_name": "Python 3",
   "language": "python",
   "name": "python3"
  },
  "language_info": {
   "name": "python",
   "version": "3.9.13 (tags/v3.9.13:6de2ca5, May 17 2022, 16:36:42) [MSC v.1929 64 bit (AMD64)]"
  },
  "orig_nbformat": 4,
  "vscode": {
   "interpreter": {
    "hash": "b632dcc83ff5927942d6d9ce4967f5155bb6ecfd8a74c01d0bb5eeb3cc54d9f0"
   }
  }
 },
 "nbformat": 4,
 "nbformat_minor": 2
}
